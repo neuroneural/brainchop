{
 "cells": [
  {
   "cell_type": "code",
   "execution_count": null,
   "metadata": {},
   "outputs": [],
   "source": [
    "import tensorflowjs as tfjs\n",
    "import json\n",
    "\n",
    "# After saving keras model with ZeroPadding3D as model.json  Modify with this code:\n",
    "\n",
    "\n",
    "# Open json file to modify\n",
    "with open(output_folder + 'model.json') as f:\n",
    "    model_dict = json.load(f)\n",
    "    \n",
    "# Convert   \n",
    "for layer in model_dict['modelTopology']['model_config']['config']['layers']:\n",
    "     if layer['class_name'] == \"ZeroPadding3D\":\n",
    "        model_dict['modelTopology']['model_config']['config']['layers'].remove(layer)\n",
    "\n",
    "\n",
    "prev_layer_name = \"\"\n",
    "for layer in model_dict['modelTopology']['model_config']['config']['layers']:\n",
    "    if layer['class_name'] == \"InputLayer\":\n",
    "        layer[\"config\"][\"batch_input_shape\"] = [None, 38, 38, 38, 1]\n",
    "\n",
    "    if layer['class_name'] == \"Conv3D\":\n",
    "        layer[\"config\"][\"padding\"] = \"same\"  \n",
    "        layer[\"config\"][\"data_format\"] = \"channels_last\"            \n",
    "        layer['inbound_nodes'][0][0][0] = prev_layer_name \n",
    "    \n",
    "    prev_layer_name = layer[\"config\"][\"name\"]\n",
    "\n",
    "        \n",
    "# Verification    \n",
    "for layer in model_dict['modelTopology']['model_config']['config']['layers']:\n",
    "    print(layer)\n",
    "    print(\"-------------------------------------------------------\")\n",
    "\n",
    "    \n",
    "    \n",
    "# Save model.json file\n",
    "with open(output_folder + 'model.json', 'w') as fp:\n",
    "    json.dump(model_dict, fp)    "
   ]
  }
 ],
 "metadata": {
  "kernelspec": {
   "display_name": "Python 3",
   "language": "python",
   "name": "python3"
  },
  "language_info": {
   "codemirror_mode": {
    "name": "ipython",
    "version": 3
   },
   "file_extension": ".py",
   "mimetype": "text/x-python",
   "name": "python",
   "nbconvert_exporter": "python",
   "pygments_lexer": "ipython3",
   "version": "3.7.11"
  }
 },
 "nbformat": 4,
 "nbformat_minor": 4
}
